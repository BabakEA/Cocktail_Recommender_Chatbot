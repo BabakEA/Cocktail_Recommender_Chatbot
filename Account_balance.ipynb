{
 "cells": [
  {
   "cell_type": "code",
   "execution_count": 1,
   "id": "8f43f484",
   "metadata": {},
   "outputs": [],
   "source": [
    "import json,requests,warnings,pprint,pandas as pd\n",
    "warnings.filterwarnings(\"ignore\")"
   ]
  },
  {
   "cell_type": "code",
   "execution_count": 2,
   "id": "a723e7dd",
   "metadata": {},
   "outputs": [],
   "source": [
    "### request header\n",
    "headers = {\n",
    "    'accept': 'application/json',\n",
    "}\n"
   ]
  },
  {
   "cell_type": "code",
   "execution_count": 3,
   "id": "6ab2c33c",
   "metadata": {},
   "outputs": [],
   "source": [
    "def Available_Found_Comparision(Account:str):\n",
    "    print( \"INPUT:\" ,Account)\n",
    "    \n",
    "    ######## general Information \n",
    "    report={}\n",
    "    \n",
    "    All_account_URL='https://cmb.cfk.devfg.rbc.com/api/V1/core/accounts/?limit=30'\n",
    "    All_account_info = requests.get(All_account_URL, headers=headers, verify=False).json()\n",
    "    df=pd.DataFrame(All_account_info[\"data\"])#.to_dict()\n",
    "    #df.head(5)\n",
    "    general_view=df[df[\"title\"]==Account].to_dict(orient='records')[0]\n",
    "    report[\"General_View\"]=general_view\n",
    "    \n",
    "    ####### account details \n",
    "    Account_URL=\"https://cmb.cfk.devfg.rbc.com/api/V1/core/accounts/{ACCOUNT}/balance_for_title\".format(ACCOUNT=Account)\n",
    "    specific_datail= requests.get(Account_URL, headers=headers, verify=False).json()[\"data\"]\n",
    "    \n",
    "    report[\"Specific_View\"]=specific_datail\n",
    "    return report\n",
    " \n",
    "  "
   ]
  },
  {
   "cell_type": "code",
   "execution_count": 4,
   "id": "100afa1d",
   "metadata": {},
   "outputs": [
    {
     "name": "stdout",
     "output_type": "stream",
     "text": [
      "INPUT: Ford Operating Account:20th Century Ford:Leasing Vehicles\n"
     ]
    }
   ],
   "source": [
    "report=Available_Found_Comparision(\"Ford Operating Account:20th Century Ford:Leasing Vehicles\")  "
   ]
  },
  {
   "cell_type": "code",
   "execution_count": 5,
   "id": "1ce6a5c6",
   "metadata": {},
   "outputs": [
    {
     "name": "stdout",
     "output_type": "stream",
     "text": [
      "{'General_View': {'available': '766.50',\n",
      "                  'title': 'Ford Operating Account:20th Century Ford:Leasing '\n",
      "                           'Vehicles',\n",
      "                  'total': '7724883.2511445392'},\n",
      " 'Specific_View': {'available': '7724116.7511445392',\n",
      "                   'title': 'Ford Operating Account:20th Century Ford:Leasing '\n",
      "                            'Vehicles',\n",
      "                   'total': '15448233.5022890784'}}\n"
     ]
    }
   ],
   "source": [
    "pprint.pprint(report)"
   ]
  },
  {
   "cell_type": "code",
   "execution_count": null,
   "id": "d5463754",
   "metadata": {},
   "outputs": [],
   "source": []
  }
 ],
 "metadata": {
  "kernelspec": {
   "display_name": "Python 3 (ipykernel)",
   "language": "python",
   "name": "python3"
  },
  "language_info": {
   "codemirror_mode": {
    "name": "ipython",
    "version": 3
   },
   "file_extension": ".py",
   "mimetype": "text/x-python",
   "name": "python",
   "nbconvert_exporter": "python",
   "pygments_lexer": "ipython3",
   "version": "3.8.12"
  }
 },
 "nbformat": 4,
 "nbformat_minor": 5
}
